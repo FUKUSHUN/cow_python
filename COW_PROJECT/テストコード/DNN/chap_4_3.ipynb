{
 "cells": [
  {
   "cell_type": "code",
   "execution_count": 1,
   "metadata": {},
   "outputs": [],
   "source": [
    "import tensorflow as tf\n",
    "import numpy as np\n",
    "import matplotlib.pyplot as plt\n",
    "from tensorflow.examples.tutorials.mnist import input_data\n",
    "\n",
    "np.random.seed(20201229)\n",
    "tf.set_random_seed(20201229)"
   ]
  },
  {
   "cell_type": "code",
   "execution_count": 2,
   "metadata": {},
   "outputs": [
    {
     "name": "stdout",
     "output_type": "stream",
     "text": [
      "WARNING:tensorflow:From <ipython-input-2-d651cc53d7d8>:1: read_data_sets (from tensorflow.contrib.learn.python.learn.datasets.mnist) is deprecated and will be removed in a future version.\n",
      "Instructions for updating:\n",
      "Please use alternatives such as official/mnist/dataset.py from tensorflow/models.\n",
      "WARNING:tensorflow:From c:\\users\\fukumoto\\appdata\\local\\programs\\python\\python37\\lib\\site-packages\\tensorflow_core\\contrib\\learn\\python\\learn\\datasets\\mnist.py:260: maybe_download (from tensorflow.contrib.learn.python.learn.datasets.base) is deprecated and will be removed in a future version.\n",
      "Instructions for updating:\n",
      "Please write your own downloading logic.\n",
      "WARNING:tensorflow:From c:\\users\\fukumoto\\appdata\\local\\programs\\python\\python37\\lib\\site-packages\\tensorflow_core\\contrib\\learn\\python\\learn\\datasets\\mnist.py:262: extract_images (from tensorflow.contrib.learn.python.learn.datasets.mnist) is deprecated and will be removed in a future version.\n",
      "Instructions for updating:\n",
      "Please use tf.data to implement this functionality.\n",
      "Extracting /tmp/data/train-images-idx3-ubyte.gz\n",
      "WARNING:tensorflow:From c:\\users\\fukumoto\\appdata\\local\\programs\\python\\python37\\lib\\site-packages\\tensorflow_core\\contrib\\learn\\python\\learn\\datasets\\mnist.py:267: extract_labels (from tensorflow.contrib.learn.python.learn.datasets.mnist) is deprecated and will be removed in a future version.\n",
      "Instructions for updating:\n",
      "Please use tf.data to implement this functionality.\n",
      "Extracting /tmp/data/train-labels-idx1-ubyte.gz\n",
      "WARNING:tensorflow:From c:\\users\\fukumoto\\appdata\\local\\programs\\python\\python37\\lib\\site-packages\\tensorflow_core\\contrib\\learn\\python\\learn\\datasets\\mnist.py:110: dense_to_one_hot (from tensorflow.contrib.learn.python.learn.datasets.mnist) is deprecated and will be removed in a future version.\n",
      "Instructions for updating:\n",
      "Please use tf.one_hot on tensors.\n",
      "Extracting /tmp/data/t10k-images-idx3-ubyte.gz\n",
      "Extracting /tmp/data/t10k-labels-idx1-ubyte.gz\n",
      "WARNING:tensorflow:From c:\\users\\fukumoto\\appdata\\local\\programs\\python\\python37\\lib\\site-packages\\tensorflow_core\\contrib\\learn\\python\\learn\\datasets\\mnist.py:290: DataSet.__init__ (from tensorflow.contrib.learn.python.learn.datasets.mnist) is deprecated and will be removed in a future version.\n",
      "Instructions for updating:\n",
      "Please use alternatives such as official/mnist/dataset.py from tensorflow/models.\n"
     ]
    }
   ],
   "source": [
    "mnist = input_data.read_data_sets(\"/tmp/data/\", one_hot=True)"
   ]
  },
  {
   "cell_type": "code",
   "execution_count": 3,
   "metadata": {},
   "outputs": [],
   "source": [
    "# --- コンボリューション層とプーリング層を定義する ---\n",
    "num_filters = 16\n",
    "\n",
    "x = tf.placeholder(tf.float32, [None, 784])\n",
    "x_image = tf.reshape(x, [-1,28,28,1])\n",
    "\n",
    "W_conv = tf.Variable(tf.truncated_normal([5,5,1,num_filters], stddev=0.1))\n",
    "h_conv = tf.nn.conv2d(x_image, W_conv, strides=[1,1,1,1], padding='SAME')\n",
    "h_pool =tf.nn.max_pool(h_conv, ksize=[1,2,2,1], strides=[1,2,2,1], padding='SAME')"
   ]
  },
  {
   "cell_type": "code",
   "execution_count": 4,
   "metadata": {},
   "outputs": [],
   "source": [
    "# --- プーリング層からの出力を経由してソフトマックス関数をかける ---\n",
    "h_pool_flat = tf.reshape(h_pool, [-1, 14*14*num_filters])\n",
    "\n",
    "num_units1 = 14*14*num_filters\n",
    "num_units2 = 1024\n",
    "\n",
    "w2 = tf.Variable(tf.truncated_normal([num_units1, num_units2]))\n",
    "b2 = tf.Variable(tf.zeros([num_units2]))\n",
    "hidden2 = tf.nn.relu(tf.matmul(h_pool_flat, w2) + b2)\n",
    "\n",
    "w0 = tf.Variable(tf.zeros([num_units2, 10]))\n",
    "b0 = tf.Variable(tf.zeros([10]))\n",
    "p = tf.nn.softmax(tf.matmul(hidden2, w0) + b0)"
   ]
  },
  {
   "cell_type": "code",
   "execution_count": 5,
   "metadata": {},
   "outputs": [],
   "source": [
    "# --- 損失関数を定義 ---\n",
    "t = tf.placeholder(tf.float32, [None, 10])\n",
    "loss = -tf.reduce_sum(t * tf.log(p))\n",
    "train_step = tf.train.AdamOptimizer(0.0005).minimize(loss)\n",
    "correct_prediction = tf.equal(tf.argmax(p, 1), tf.argmax(t, 1))\n",
    "accuracy = tf.reduce_mean(tf.cast(correct_prediction, tf.float32))"
   ]
  },
  {
   "cell_type": "code",
   "execution_count": 6,
   "metadata": {},
   "outputs": [
    {
     "name": "stdout",
     "output_type": "stream",
     "text": [
      "WARNING:tensorflow:From c:\\users\\fukumoto\\appdata\\local\\programs\\python\\python37\\lib\\site-packages\\tensorflow_core\\python\\util\\tf_should_use.py:198: initialize_all_variables (from tensorflow.python.ops.variables) is deprecated and will be removed after 2017-03-02.\n",
      "Instructions for updating:\n",
      "Use `tf.global_variables_initializer` instead.\n",
      "Step: 100, Loss: 2649.335938, Accuracy: 0.920900\n",
      "Step: 200, Loss: 1722.914551, Accuracy: 0.948600\n",
      "Step: 300, Loss: 1344.919678, Accuracy: 0.959700\n",
      "Step: 400, Loss: 1095.750244, Accuracy: 0.967300\n",
      "Step: 500, Loss: 1153.130127, Accuracy: 0.965900\n",
      "Step: 600, Loss: 937.000671, Accuracy: 0.970200\n",
      "WARNING:tensorflow:From c:\\users\\fukumoto\\appdata\\local\\programs\\python\\python37\\lib\\site-packages\\tensorflow_core\\python\\training\\saver.py:963: remove_checkpoint (from tensorflow.python.training.checkpoint_management) is deprecated and will be removed in a future version.\n",
      "Instructions for updating:\n",
      "Use standard file APIs to delete files with this prefix.\n",
      "Step: 700, Loss: 1024.394043, Accuracy: 0.969200\n",
      "Step: 800, Loss: 960.089478, Accuracy: 0.972800\n",
      "Step: 900, Loss: 908.664429, Accuracy: 0.972600\n",
      "Step: 1000, Loss: 746.575134, Accuracy: 0.977300\n",
      "Step: 1100, Loss: 879.190063, Accuracy: 0.972900\n",
      "Step: 1200, Loss: 721.581909, Accuracy: 0.976400\n",
      "Step: 1300, Loss: 755.024475, Accuracy: 0.976100\n",
      "Step: 1400, Loss: 809.193054, Accuracy: 0.975000\n",
      "Step: 1500, Loss: 720.869202, Accuracy: 0.977400\n",
      "Step: 1600, Loss: 667.428345, Accuracy: 0.979200\n",
      "Step: 1700, Loss: 708.283569, Accuracy: 0.979400\n",
      "Step: 1800, Loss: 717.776550, Accuracy: 0.977700\n",
      "Step: 1900, Loss: 651.435059, Accuracy: 0.979900\n",
      "Step: 2000, Loss: 711.143005, Accuracy: 0.977900\n",
      "Step: 2100, Loss: 701.494202, Accuracy: 0.979300\n",
      "Step: 2200, Loss: 681.440552, Accuracy: 0.978900\n",
      "Step: 2300, Loss: 629.569702, Accuracy: 0.980500\n",
      "Step: 2400, Loss: 683.037720, Accuracy: 0.978700\n",
      "Step: 2500, Loss: 639.169922, Accuracy: 0.980200\n",
      "Step: 2600, Loss: 589.741638, Accuracy: 0.983400\n",
      "Step: 2700, Loss: 716.436462, Accuracy: 0.979800\n",
      "Step: 2800, Loss: 616.500427, Accuracy: 0.982400\n",
      "Step: 2900, Loss: 675.552551, Accuracy: 0.981100\n",
      "Step: 3000, Loss: 617.258667, Accuracy: 0.980800\n",
      "Step: 3100, Loss: 574.072083, Accuracy: 0.983300\n",
      "Step: 3200, Loss: 674.198364, Accuracy: 0.980500\n",
      "Step: 3300, Loss: 657.222839, Accuracy: 0.981000\n",
      "Step: 3400, Loss: 651.539673, Accuracy: 0.980600\n",
      "Step: 3500, Loss: 637.252502, Accuracy: 0.981400\n",
      "Step: 3600, Loss: 713.602173, Accuracy: 0.979700\n",
      "Step: 3700, Loss: 711.878845, Accuracy: 0.980400\n",
      "Step: 3800, Loss: 962.567993, Accuracy: 0.975100\n",
      "Step: 3900, Loss: 648.671814, Accuracy: 0.982100\n",
      "Step: 4000, Loss: 675.298767, Accuracy: 0.982000\n"
     ]
    }
   ],
   "source": [
    "# --- パラメータ最適化 ---\n",
    "sess = tf.Session()\n",
    "sess.run(tf.initialize_all_variables())\n",
    "saver = tf.train.Saver() # トレーニング処理を中断しても後から処理を再開できるようにするため\n",
    "# saver.restore(sess, 'mdc_session-4000') # 処理再開\n",
    "i = 0\n",
    "for _ in range(4000):\n",
    "    i += 1\n",
    "    batch_xs, batch_ts = mnist.train.next_batch(100)\n",
    "    sess.run(train_step, feed_dict={x: batch_xs, t: batch_ts})\n",
    "    if i % 100 == 0:\n",
    "        loss_val, acc_val = sess.run([loss, accuracy],\n",
    "            feed_dict={x:mnist.test.images, t:mnist.test.labels})\n",
    "        print ('Step: %d, Loss: %f, Accuracy: %f'\n",
    "               % (i, loss_val, acc_val))\n",
    "        saver.save(sess, 'mdc_session', global_step=i)"
   ]
  }
 ],
 "metadata": {
  "kernelspec": {
   "display_name": "Python 3",
   "language": "python",
   "name": "python3"
  },
  "language_info": {
   "codemirror_mode": {
    "name": "ipython",
    "version": 3
   },
   "file_extension": ".py",
   "mimetype": "text/x-python",
   "name": "python",
   "nbconvert_exporter": "python",
   "pygments_lexer": "ipython3",
   "version": "3.7.4"
  }
 },
 "nbformat": 4,
 "nbformat_minor": 4
}

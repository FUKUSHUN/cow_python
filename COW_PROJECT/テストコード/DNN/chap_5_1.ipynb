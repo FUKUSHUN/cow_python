{
 "cells": [
  {
   "cell_type": "code",
   "execution_count": 1,
   "metadata": {},
   "outputs": [],
   "source": [
    "import tensorflow as tf\n",
    "import numpy as np\n",
    "import matplotlib.pyplot as plt\n",
    "from tensorflow.examples.tutorials.mnist import input_data\n",
    "\n",
    "np.random.seed(20201229)\n",
    "tf.set_random_seed(20201229)"
   ]
  },
  {
   "cell_type": "code",
   "execution_count": 2,
   "metadata": {},
   "outputs": [
    {
     "name": "stdout",
     "output_type": "stream",
     "text": [
      "WARNING:tensorflow:From <ipython-input-2-d651cc53d7d8>:1: read_data_sets (from tensorflow.contrib.learn.python.learn.datasets.mnist) is deprecated and will be removed in a future version.\n",
      "Instructions for updating:\n",
      "Please use alternatives such as official/mnist/dataset.py from tensorflow/models.\n",
      "WARNING:tensorflow:From c:\\users\\fukumoto\\appdata\\local\\programs\\python\\python37\\lib\\site-packages\\tensorflow_core\\contrib\\learn\\python\\learn\\datasets\\mnist.py:260: maybe_download (from tensorflow.contrib.learn.python.learn.datasets.base) is deprecated and will be removed in a future version.\n",
      "Instructions for updating:\n",
      "Please write your own downloading logic.\n",
      "WARNING:tensorflow:From c:\\users\\fukumoto\\appdata\\local\\programs\\python\\python37\\lib\\site-packages\\tensorflow_core\\contrib\\learn\\python\\learn\\datasets\\mnist.py:262: extract_images (from tensorflow.contrib.learn.python.learn.datasets.mnist) is deprecated and will be removed in a future version.\n",
      "Instructions for updating:\n",
      "Please use tf.data to implement this functionality.\n",
      "Extracting /tmp/data/train-images-idx3-ubyte.gz\n",
      "WARNING:tensorflow:From c:\\users\\fukumoto\\appdata\\local\\programs\\python\\python37\\lib\\site-packages\\tensorflow_core\\contrib\\learn\\python\\learn\\datasets\\mnist.py:267: extract_labels (from tensorflow.contrib.learn.python.learn.datasets.mnist) is deprecated and will be removed in a future version.\n",
      "Instructions for updating:\n",
      "Please use tf.data to implement this functionality.\n",
      "Extracting /tmp/data/train-labels-idx1-ubyte.gz\n",
      "WARNING:tensorflow:From c:\\users\\fukumoto\\appdata\\local\\programs\\python\\python37\\lib\\site-packages\\tensorflow_core\\contrib\\learn\\python\\learn\\datasets\\mnist.py:110: dense_to_one_hot (from tensorflow.contrib.learn.python.learn.datasets.mnist) is deprecated and will be removed in a future version.\n",
      "Instructions for updating:\n",
      "Please use tf.one_hot on tensors.\n",
      "Extracting /tmp/data/t10k-images-idx3-ubyte.gz\n",
      "Extracting /tmp/data/t10k-labels-idx1-ubyte.gz\n",
      "WARNING:tensorflow:From c:\\users\\fukumoto\\appdata\\local\\programs\\python\\python37\\lib\\site-packages\\tensorflow_core\\contrib\\learn\\python\\learn\\datasets\\mnist.py:290: DataSet.__init__ (from tensorflow.contrib.learn.python.learn.datasets.mnist) is deprecated and will be removed in a future version.\n",
      "Instructions for updating:\n",
      "Please use alternatives such as official/mnist/dataset.py from tensorflow/models.\n"
     ]
    }
   ],
   "source": [
    "mnist = input_data.read_data_sets(\"/tmp/data/\", one_hot=True)"
   ]
  },
  {
   "cell_type": "code",
   "execution_count": 3,
   "metadata": {},
   "outputs": [],
   "source": [
    "# --- 1段目のコンボリューション層とプーリング層を定義する ---\n",
    "num_filters1 = 32\n",
    "\n",
    "x = tf.placeholder(tf.float32, [None, 784])\n",
    "x_image = tf.reshape(x, [-1,28,28,1])\n",
    "\n",
    "W_conv1 = tf.Variable(tf.truncated_normal([5,5,1,num_filters1], stddev=0.1))\n",
    "h_conv1 = tf.nn.conv2d(x_image, W_conv1, strides=[1,1,1,1], padding='SAME')\n",
    "b_conv1 = tf.Variable(tf.constant(0.1, shape=[num_filters1]))\n",
    "h_conv1_cutoff = tf.nn.relu(h_conv1 + b_conv1) # b_conv1にもreluを適用することでピクセルのカットオフ値もパラメータ最適化の対象とする\n",
    "h_pool1 =tf.nn.max_pool(h_conv1_cutoff, ksize=[1,2,2,1], strides=[1,2,2,1], padding='SAME')"
   ]
  },
  {
   "cell_type": "code",
   "execution_count": 4,
   "metadata": {},
   "outputs": [],
   "source": [
    "# --- 2段目のコンボリューション層とプーリング層を定義する ---\n",
    "num_filters2 = 64\n",
    "\n",
    "W_conv2 = tf.Variable(tf.truncated_normal([5,5,num_filters1,num_filters2], stddev=0.1))\n",
    "h_conv2 = tf.nn.conv2d(h_pool1, W_conv2, strides=[1,1,1,1], padding='SAME')\n",
    "b_conv2 = tf.Variable(tf.constant(0.1, shape=[num_filters2]))\n",
    "h_conv2_cutoff = tf.nn.relu(h_conv2 + b_conv2) # b_conv2にもreluを適用することでピクセルのカットオフ値もパラメータ最適化の対象とする\n",
    "h_pool2 =tf.nn.max_pool(h_conv2_cutoff, ksize=[1,2,2,1], strides=[1,2,2,1], padding='SAME')"
   ]
  },
  {
   "cell_type": "code",
   "execution_count": 5,
   "metadata": {},
   "outputs": [
    {
     "name": "stdout",
     "output_type": "stream",
     "text": [
      "WARNING:tensorflow:From <ipython-input-5-5bd771a21331>:12: calling dropout (from tensorflow.python.ops.nn_ops) with keep_prob is deprecated and will be removed in a future version.\n",
      "Instructions for updating:\n",
      "Please use `rate` instead of `keep_prob`. Rate should be set to `rate = 1 - keep_prob`.\n"
     ]
    }
   ],
   "source": [
    "# --- 2段目のプーリング層からの出力に対して全結合層を通す ---\n",
    "h_pool2_flat = tf.reshape(h_pool2, [-1, 7*7*num_filters2])\n",
    "\n",
    "num_units1 = 7*7*num_filters2\n",
    "num_units2 = 1024\n",
    "\n",
    "w2 = tf.Variable(tf.truncated_normal([num_units1, num_units2]))\n",
    "b2 = tf.Variable(tf.constant(0.1, shape=[num_units2]))\n",
    "hidden2 = tf.nn.relu(tf.matmul(h_pool2_flat, w2) + b2)\n",
    "\n",
    "keep_prob = tf.placeholder(tf.float32) # dropoutの割合を設定\n",
    "hidden2_drop = tf.nn.dropout(hidden2, keep_prob) # dropoutを設定\n",
    "\n",
    "w0 = tf.Variable(tf.zeros([num_units2, 10]))\n",
    "b0 = tf.Variable(tf.zeros([10]))\n",
    "p = tf.nn.softmax(tf.matmul(hidden2_drop, w0) + b0)"
   ]
  },
  {
   "cell_type": "code",
   "execution_count": 6,
   "metadata": {},
   "outputs": [],
   "source": [
    "# --- 損失関数を定義 ---\n",
    "t = tf.placeholder(tf.float32, [None, 10])\n",
    "loss = -tf.reduce_sum(t * tf.log(p))\n",
    "train_step = tf.train.AdamOptimizer(0.0001).minimize(loss)\n",
    "correct_prediction = tf.equal(tf.argmax(p, 1), tf.argmax(t, 1))\n",
    "accuracy = tf.reduce_mean(tf.cast(correct_prediction, tf.float32))"
   ]
  },
  {
   "cell_type": "code",
   "execution_count": 7,
   "metadata": {},
   "outputs": [
    {
     "name": "stdout",
     "output_type": "stream",
     "text": [
      "WARNING:tensorflow:From c:\\users\\fukumoto\\appdata\\local\\programs\\python\\python37\\lib\\site-packages\\tensorflow_core\\python\\util\\tf_should_use.py:198: initialize_all_variables (from tensorflow.python.ops.variables) is deprecated and will be removed after 2017-03-02.\n",
      "Instructions for updating:\n",
      "Use `tf.global_variables_initializer` instead.\n",
      "Step: 500, Loss: 1458.870483, Accuracy: 0.958600\n",
      "Step: 1000, Loss: 975.812012, Accuracy: 0.971500\n",
      "Step: 1500, Loss: 807.803772, Accuracy: 0.975600\n",
      "Step: 2000, Loss: 641.931152, Accuracy: 0.979800\n",
      "Step: 2500, Loss: 579.376221, Accuracy: 0.981000\n",
      "Step: 3000, Loss: 555.310913, Accuracy: 0.982800\n",
      "WARNING:tensorflow:From c:\\users\\fukumoto\\appdata\\local\\programs\\python\\python37\\lib\\site-packages\\tensorflow_core\\python\\training\\saver.py:963: remove_checkpoint (from tensorflow.python.training.checkpoint_management) is deprecated and will be removed in a future version.\n",
      "Instructions for updating:\n",
      "Use standard file APIs to delete files with this prefix.\n",
      "Step: 3500, Loss: 479.356567, Accuracy: 0.983900\n",
      "Step: 4000, Loss: 514.845093, Accuracy: 0.982800\n",
      "Step: 4500, Loss: 463.100861, Accuracy: 0.984300\n",
      "Step: 5000, Loss: 454.873779, Accuracy: 0.984700\n",
      "Step: 5500, Loss: 418.310608, Accuracy: 0.986100\n",
      "Step: 6000, Loss: 370.734711, Accuracy: 0.987200\n",
      "Step: 6500, Loss: 414.933289, Accuracy: 0.984400\n",
      "Step: 7000, Loss: 395.302551, Accuracy: 0.985600\n",
      "Step: 7500, Loss: 385.224640, Accuracy: 0.985800\n",
      "Step: 8000, Loss: 357.374725, Accuracy: 0.987900\n",
      "Step: 8500, Loss: 379.930206, Accuracy: 0.987200\n",
      "Step: 9000, Loss: 347.727936, Accuracy: 0.988400\n",
      "Step: 9500, Loss: 341.098480, Accuracy: 0.987700\n",
      "Step: 10000, Loss: 331.094330, Accuracy: 0.988400\n",
      "Step: 10500, Loss: 337.201843, Accuracy: 0.988700\n",
      "Step: 11000, Loss: 320.141144, Accuracy: 0.988600\n",
      "Step: 11500, Loss: 323.060028, Accuracy: 0.988700\n",
      "Step: 12000, Loss: 359.719116, Accuracy: 0.988000\n",
      "Step: 12500, Loss: 322.055756, Accuracy: 0.989000\n",
      "Step: 13000, Loss: 331.229065, Accuracy: 0.989100\n",
      "Step: 13500, Loss: 313.597107, Accuracy: 0.990100\n",
      "Step: 14000, Loss: 321.215851, Accuracy: 0.989000\n",
      "Step: 14500, Loss: 316.334534, Accuracy: 0.989300\n",
      "Step: 15000, Loss: 297.328644, Accuracy: 0.990300\n",
      "Step: 15500, Loss: 292.915375, Accuracy: 0.991000\n",
      "Step: 16000, Loss: 316.849335, Accuracy: 0.989300\n",
      "Step: 16500, Loss: 289.617432, Accuracy: 0.990700\n",
      "Step: 17000, Loss: 330.648041, Accuracy: 0.989500\n",
      "Step: 17500, Loss: 318.292114, Accuracy: 0.989700\n",
      "Step: 18000, Loss: 328.823700, Accuracy: 0.989500\n",
      "Step: 18500, Loss: 289.214966, Accuracy: 0.991000\n",
      "Step: 19000, Loss: 277.075714, Accuracy: 0.990600\n",
      "Step: 19500, Loss: 309.395325, Accuracy: 0.990600\n",
      "Step: 20000, Loss: 310.283051, Accuracy: 0.990500\n"
     ]
    }
   ],
   "source": [
    "# --- パラメータを最適化 ---\n",
    "sess = tf.Session()\n",
    "sess.run(tf.initialize_all_variables())\n",
    "saver = tf.train.Saver()\n",
    "i = 0\n",
    "for _ in range(20000):\n",
    "    i += 1\n",
    "    batch_xs, batch_ts = mnist.train.next_batch(50)\n",
    "    sess.run(train_step, feed_dict={x:batch_xs, t:batch_ts, keep_prob:0.5})\n",
    "    if i % 500 == 0:\n",
    "        loss_vals, acc_vals = [], []\n",
    "        for c in range(4):\n",
    "            start = int(len(mnist.test.labels) / 4) * c\n",
    "            end = int(len(mnist.test.labels) / 4) * (c + 1)\n",
    "            loss_val, acc_val = sess.run([loss, accuracy], feed_dict={x:mnist.test.images[start:end], t:mnist.test.labels[start:end], keep_prob:1.0})\n",
    "            loss_vals.append(loss_val)\n",
    "            acc_vals.append(acc_val)\n",
    "        loss_val = np.sum(loss_vals)\n",
    "        acc_val = np.mean(acc_vals)\n",
    "        print ('Step: %d, Loss: %f, Accuracy: %f' % (i, loss_val, acc_val))\n",
    "        saver.save(sess, 'cnn_session', global_step=i)"
   ]
  }
 ],
 "metadata": {
  "kernelspec": {
   "display_name": "Python 3",
   "language": "python",
   "name": "python3"
  },
  "language_info": {
   "codemirror_mode": {
    "name": "ipython",
    "version": 3
   },
   "file_extension": ".py",
   "mimetype": "text/x-python",
   "name": "python",
   "nbconvert_exporter": "python",
   "pygments_lexer": "ipython3",
   "version": "3.7.4"
  }
 },
 "nbformat": 4,
 "nbformat_minor": 4
}

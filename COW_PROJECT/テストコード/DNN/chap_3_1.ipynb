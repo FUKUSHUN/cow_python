{
 "cells": [
  {
   "cell_type": "code",
   "execution_count": 1,
   "metadata": {},
   "outputs": [],
   "source": [
    "import tensorflow as tf\n",
    "import numpy as np\n",
    "import pandas as pd\n",
    "import matplotlib.pyplot as plt\n",
    "from numpy.random import multivariate_normal, permutation\n",
    "\n",
    "np.random.seed(20160614)\n",
    "tf.set_random_seed(20160614)"
   ]
  },
  {
   "cell_type": "code",
   "execution_count": 2,
   "metadata": {},
   "outputs": [
    {
     "data": {
      "text/html": [
       "<div>\n",
       "<style scoped>\n",
       "    .dataframe tbody tr th:only-of-type {\n",
       "        vertical-align: middle;\n",
       "    }\n",
       "\n",
       "    .dataframe tbody tr th {\n",
       "        vertical-align: top;\n",
       "    }\n",
       "\n",
       "    .dataframe thead th {\n",
       "        text-align: right;\n",
       "    }\n",
       "</style>\n",
       "<table border=\"1\" class=\"dataframe\">\n",
       "  <thead>\n",
       "    <tr style=\"text-align: right;\">\n",
       "      <th></th>\n",
       "      <th>x1</th>\n",
       "      <th>x2</th>\n",
       "      <th>t</th>\n",
       "    </tr>\n",
       "  </thead>\n",
       "  <tbody>\n",
       "    <tr>\n",
       "      <th>0</th>\n",
       "      <td>23.741361</td>\n",
       "      <td>16.405750</td>\n",
       "      <td>1</td>\n",
       "    </tr>\n",
       "    <tr>\n",
       "      <th>1</th>\n",
       "      <td>19.587494</td>\n",
       "      <td>14.687800</td>\n",
       "      <td>0</td>\n",
       "    </tr>\n",
       "    <tr>\n",
       "      <th>2</th>\n",
       "      <td>8.337419</td>\n",
       "      <td>4.249901</td>\n",
       "      <td>0</td>\n",
       "    </tr>\n",
       "    <tr>\n",
       "      <th>3</th>\n",
       "      <td>3.060273</td>\n",
       "      <td>4.359943</td>\n",
       "      <td>0</td>\n",
       "    </tr>\n",
       "    <tr>\n",
       "      <th>4</th>\n",
       "      <td>22.033922</td>\n",
       "      <td>14.611996</td>\n",
       "      <td>1</td>\n",
       "    </tr>\n",
       "    <tr>\n",
       "      <th>...</th>\n",
       "      <td>...</td>\n",
       "      <td>...</td>\n",
       "      <td>...</td>\n",
       "    </tr>\n",
       "    <tr>\n",
       "      <th>60</th>\n",
       "      <td>13.848263</td>\n",
       "      <td>20.263837</td>\n",
       "      <td>1</td>\n",
       "    </tr>\n",
       "    <tr>\n",
       "      <th>61</th>\n",
       "      <td>25.498160</td>\n",
       "      <td>25.907906</td>\n",
       "      <td>1</td>\n",
       "    </tr>\n",
       "    <tr>\n",
       "      <th>62</th>\n",
       "      <td>23.302871</td>\n",
       "      <td>-2.340883</td>\n",
       "      <td>0</td>\n",
       "    </tr>\n",
       "    <tr>\n",
       "      <th>63</th>\n",
       "      <td>24.586023</td>\n",
       "      <td>16.814736</td>\n",
       "      <td>1</td>\n",
       "    </tr>\n",
       "    <tr>\n",
       "      <th>64</th>\n",
       "      <td>14.830481</td>\n",
       "      <td>2.966447</td>\n",
       "      <td>0</td>\n",
       "    </tr>\n",
       "  </tbody>\n",
       "</table>\n",
       "<p>65 rows × 3 columns</p>\n",
       "</div>"
      ],
      "text/plain": [
       "           x1         x2  t\n",
       "0   23.741361  16.405750  1\n",
       "1   19.587494  14.687800  0\n",
       "2    8.337419   4.249901  0\n",
       "3    3.060273   4.359943  0\n",
       "4   22.033922  14.611996  1\n",
       "..        ...        ... ..\n",
       "60  13.848263  20.263837  1\n",
       "61  25.498160  25.907906  1\n",
       "62  23.302871  -2.340883  0\n",
       "63  24.586023  16.814736  1\n",
       "64  14.830481   2.966447  0\n",
       "\n",
       "[65 rows x 3 columns]"
      ]
     },
     "execution_count": 2,
     "metadata": {},
     "output_type": "execute_result"
    }
   ],
   "source": [
    "# ---トイデータの生成 ---\n",
    "def generate_datablock(n, mu, var, t):\n",
    "    data = multivariate_normal(mu, np.eye(2) * var, n)\n",
    "    df = pd.DataFrame(data, columns=['x1', 'x2'])\n",
    "    df['t'] = t\n",
    "    return df\n",
    "\n",
    "df0 = generate_datablock(15, [7, 7], 22, 0)\n",
    "df1 = generate_datablock(15, [22, 7], 22, 0)\n",
    "df2 = generate_datablock(10, [7, 22], 22, 0)\n",
    "df3 = generate_datablock(25, [20, 20], 22, 1)\n",
    "\n",
    "df = pd.concat([df0, df1, df2, df3], ignore_index=True)\n",
    "train_set = df.reindex(permutation(df.index)).reset_index(drop=True)\n",
    "train_set"
   ]
  },
  {
   "cell_type": "code",
   "execution_count": 3,
   "metadata": {},
   "outputs": [],
   "source": [
    "train_x = train_set[['x1', 'x2']].values\n",
    "train_t = train_set['t'].values.reshape([len(train_set), 1])"
   ]
  },
  {
   "cell_type": "code",
   "execution_count": 4,
   "metadata": {},
   "outputs": [],
   "source": [
    "# --- ニューラルネットワークを設計 ---\n",
    "# num_units = 2 # 隠れ層のノード数\n",
    "num_units = 4 # 隠れ層のノード数\n",
    "mult = train_x.flatten().mean() # トレーニングデータのすべてのx1, x2の平均値\n",
    "\n",
    "x = tf.placeholder(tf.float32, [None, 2])\n",
    "\n",
    "w1 = tf.Variable(tf.truncated_normal([2, num_units])) # 平均0, 標準偏差1の正規分布の乱数で初期化\n",
    "b1 = tf.Variable(tf.zeros([num_units]))\n",
    "hidden1 = tf.nn.tanh(tf.matmul(x, w1) + b1 * mult) # ブロードキャストルール\n",
    "\n",
    "w0 = tf.Variable(tf.zeros([num_units, 1])) # 平均0, 標準偏差1の正規分布の乱数で初期化\n",
    "b0 = tf.Variable(tf.zeros([1]))\n",
    "p = tf.nn.sigmoid(tf.matmul(hidden1, w0) + b0 * mult) # ブロードキャストルール"
   ]
  },
  {
   "cell_type": "code",
   "execution_count": 5,
   "metadata": {},
   "outputs": [],
   "source": [
    "# --- 損失関数を定義 ---\n",
    "t = tf.placeholder(tf.float32, [None, 1])\n",
    "loss = -tf.reduce_sum(t * tf.log(p) + (1 - t) * tf.log(1-p))\n",
    "# train_step = tf.train.GradientDescentOptimizer(0.001).minimize(loss)\n",
    "train_step = tf.train.GradientDescentOptimizer(0.0005).minimize(loss)\n",
    "\n",
    "# 正解率\n",
    "correct_prediction = tf.equal(tf.sign(p - 0.5), tf.sign(t - 0.5))\n",
    "accuracy = tf.reduce_mean(tf.cast(correct_prediction, tf.float32))"
   ]
  },
  {
   "cell_type": "code",
   "execution_count": 6,
   "metadata": {},
   "outputs": [
    {
     "name": "stdout",
     "output_type": "stream",
     "text": [
      "WARNING:tensorflow:From c:\\users\\fukumoto\\appdata\\local\\programs\\python\\python37\\lib\\site-packages\\tensorflow_core\\python\\util\\tf_should_use.py:198: initialize_all_variables (from tensorflow.python.ops.variables) is deprecated and will be removed after 2017-03-02.\n",
      "Instructions for updating:\n",
      "Use `tf.global_variables_initializer` instead.\n",
      "Step: 100, Loss: 32.626049, Accuracy: 0.692308\n",
      "Step: 200, Loss: 29.659187, Accuracy: 0.784615\n",
      "Step: 300, Loss: 27.521353, Accuracy: 0.769231\n",
      "Step: 400, Loss: 26.677965, Accuracy: 0.784615\n",
      "Step: 500, Loss: 26.192877, Accuracy: 0.784615\n",
      "Step: 600, Loss: 25.832344, Accuracy: 0.784615\n",
      "Step: 700, Loss: 25.545811, Accuracy: 0.784615\n",
      "Step: 800, Loss: 25.305084, Accuracy: 0.784615\n",
      "Step: 900, Loss: 25.092823, Accuracy: 0.784615\n",
      "Step: 1000, Loss: 24.898058, Accuracy: 0.784615\n",
      "Step: 1100, Loss: 24.715887, Accuracy: 0.784615\n",
      "Step: 1200, Loss: 24.547724, Accuracy: 0.784615\n",
      "Step: 1300, Loss: 24.394796, Accuracy: 0.784615\n",
      "Step: 1400, Loss: 24.253950, Accuracy: 0.784615\n",
      "Step: 1500, Loss: 24.122007, Accuracy: 0.784615\n",
      "Step: 1600, Loss: 23.999775, Accuracy: 0.784615\n",
      "Step: 1700, Loss: 23.889032, Accuracy: 0.784615\n",
      "Step: 1800, Loss: 23.788708, Accuracy: 0.784615\n",
      "Step: 1900, Loss: 23.696815, Accuracy: 0.784615\n",
      "Step: 2000, Loss: 23.611877, Accuracy: 0.784615\n",
      "Step: 2100, Loss: 23.532923, Accuracy: 0.784615\n",
      "Step: 2200, Loss: 23.459259, Accuracy: 0.784615\n",
      "Step: 2300, Loss: 23.390364, Accuracy: 0.784615\n",
      "Step: 2400, Loss: 23.325775, Accuracy: 0.784615\n",
      "Step: 2500, Loss: 23.265102, Accuracy: 0.784615\n",
      "Step: 2600, Loss: 23.207994, Accuracy: 0.784615\n",
      "Step: 2700, Loss: 23.154116, Accuracy: 0.784615\n",
      "Step: 2800, Loss: 23.103184, Accuracy: 0.784615\n",
      "Step: 2900, Loss: 23.054934, Accuracy: 0.784615\n",
      "Step: 3000, Loss: 23.009132, Accuracy: 0.784615\n",
      "Step: 3100, Loss: 22.965584, Accuracy: 0.784615\n",
      "Step: 3200, Loss: 22.924110, Accuracy: 0.784615\n",
      "Step: 3300, Loss: 22.884573, Accuracy: 0.784615\n",
      "Step: 3400, Loss: 22.846859, Accuracy: 0.784615\n",
      "Step: 3500, Loss: 22.810862, Accuracy: 0.784615\n",
      "Step: 3600, Loss: 22.776510, Accuracy: 0.784615\n",
      "Step: 3700, Loss: 22.743719, Accuracy: 0.784615\n",
      "Step: 3800, Loss: 22.712423, Accuracy: 0.784615\n",
      "Step: 3900, Loss: 22.682543, Accuracy: 0.784615\n",
      "Step: 4000, Loss: 22.654001, Accuracy: 0.784615\n"
     ]
    }
   ],
   "source": [
    "# --- パラメータの最適化 ---\n",
    "sess = tf.InteractiveSession()\n",
    "sess.run(tf.initialize_all_variables())\n",
    "i = 0\n",
    "for _ in range(4000):\n",
    "    i += 1\n",
    "    sess.run(train_step, feed_dict={x:train_x, t:train_t})\n",
    "    if (i % 100 == 0):\n",
    "        loss_val, acc_val = sess.run([loss, accuracy], feed_dict={x:train_x, t:train_t})\n",
    "        print('Step: %d, Loss: %f, Accuracy: %f'% (i, loss_val, acc_val))"
   ]
  },
  {
   "cell_type": "code",
   "execution_count": 7,
   "metadata": {},
   "outputs": [
    {
     "data": {
      "text/plain": [
       "<matplotlib.image.AxesImage at 0x1af3df532c8>"
      ]
     },
     "execution_count": 7,
     "metadata": {},
     "output_type": "execute_result"
    },
    {
     "data": {
      "image/png": "[encoded data removed]",
      "text/plain": [
       "<Figure size 432x432 with 1 Axes>"
      ]
     },
     "metadata": {
      "needs_background": "light"
     },
     "output_type": "display_data"
    }
   ],
   "source": [
    "# --- 結果の可視化 ---\n",
    "train_set0 = train_set[train_set['t'] == 0]\n",
    "train_set1 = train_set[train_set['t'] == 1]\n",
    "\n",
    "fig = plt.figure(figsize = (6, 6))\n",
    "subplot = fig.add_subplot(1, 1, 1)\n",
    "subplot.set_xlim(0, 30)\n",
    "subplot.set_ylim(0, 30)\n",
    "subplot.scatter(train_set1.x1, train_set1.x2, marker = 'x')\n",
    "subplot.scatter(train_set0.x1, train_set0.x2, marker = 'o')\n",
    "\n",
    "locations = []\n",
    "for x2 in np.linspace(0, 30, 100):\n",
    "    for x1 in np.linspace(0, 30, 100):\n",
    "        locations.append((x1, x2))\n",
    "p_vals = sess.run(p, feed_dict={x:locations})\n",
    "p_vals = p_vals.reshape((100, 100))\n",
    "subplot.imshow(p_vals, origin='lower', extent=(0, 30, 0, 30), cmap=plt.cm.gray_r, alpha=0.5)"
   ]
  }
 ],
 "metadata": {
  "kernelspec": {
   "display_name": "Python 3",
   "language": "python",
   "name": "python3"
  },
  "language_info": {
   "codemirror_mode": {
    "name": "ipython",
    "version": 3
   },
   "file_extension": ".py",
   "mimetype": "text/x-python",
   "name": "python",
   "nbconvert_exporter": "python",
   "pygments_lexer": "ipython3",
   "version": "3.7.4"
  }
 },
 "nbformat": 4,
 "nbformat_minor": 4
}

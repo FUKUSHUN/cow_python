{
 "cells": [
  {
   "cell_type": "code",
   "execution_count": 1,
   "metadata": {},
   "outputs": [],
   "source": [
    "import tensorflow as tf\n",
    "import numpy as np\n",
    "import matplotlib.pyplot as plt\n",
    "from numpy.random import multivariate_normal, permutation\n",
    "import pandas as pd"
   ]
  },
  {
   "cell_type": "code",
   "execution_count": 2,
   "metadata": {},
   "outputs": [
    {
     "data": {
      "text/html": [
       "<div>\n",
       "<style scoped>\n",
       "    .dataframe tbody tr th:only-of-type {\n",
       "        vertical-align: middle;\n",
       "    }\n",
       "\n",
       "    .dataframe tbody tr th {\n",
       "        vertical-align: top;\n",
       "    }\n",
       "\n",
       "    .dataframe thead th {\n",
       "        text-align: right;\n",
       "    }\n",
       "</style>\n",
       "<table border=\"1\" class=\"dataframe\">\n",
       "  <thead>\n",
       "    <tr style=\"text-align: right;\">\n",
       "      <th></th>\n",
       "      <th>x1</th>\n",
       "      <th>x2</th>\n",
       "      <th>t</th>\n",
       "    </tr>\n",
       "  </thead>\n",
       "  <tbody>\n",
       "    <tr>\n",
       "      <th>0</th>\n",
       "      <td>16.453854</td>\n",
       "      <td>14.882724</td>\n",
       "      <td>1</td>\n",
       "    </tr>\n",
       "    <tr>\n",
       "      <th>1</th>\n",
       "      <td>-0.044271</td>\n",
       "      <td>11.226154</td>\n",
       "      <td>0</td>\n",
       "    </tr>\n",
       "    <tr>\n",
       "      <th>2</th>\n",
       "      <td>10.270329</td>\n",
       "      <td>8.557856</td>\n",
       "      <td>0</td>\n",
       "    </tr>\n",
       "    <tr>\n",
       "      <th>3</th>\n",
       "      <td>15.189702</td>\n",
       "      <td>19.410997</td>\n",
       "      <td>1</td>\n",
       "    </tr>\n",
       "    <tr>\n",
       "      <th>4</th>\n",
       "      <td>19.424480</td>\n",
       "      <td>10.684027</td>\n",
       "      <td>0</td>\n",
       "    </tr>\n",
       "    <tr>\n",
       "      <th>...</th>\n",
       "      <td>...</td>\n",
       "      <td>...</td>\n",
       "      <td>...</td>\n",
       "    </tr>\n",
       "    <tr>\n",
       "      <th>275</th>\n",
       "      <td>20.655680</td>\n",
       "      <td>21.723042</td>\n",
       "      <td>1</td>\n",
       "    </tr>\n",
       "    <tr>\n",
       "      <th>276</th>\n",
       "      <td>9.685182</td>\n",
       "      <td>13.165120</td>\n",
       "      <td>0</td>\n",
       "    </tr>\n",
       "    <tr>\n",
       "      <th>277</th>\n",
       "      <td>20.349387</td>\n",
       "      <td>16.950134</td>\n",
       "      <td>1</td>\n",
       "    </tr>\n",
       "    <tr>\n",
       "      <th>278</th>\n",
       "      <td>17.778036</td>\n",
       "      <td>20.983005</td>\n",
       "      <td>1</td>\n",
       "    </tr>\n",
       "    <tr>\n",
       "      <th>279</th>\n",
       "      <td>22.356330</td>\n",
       "      <td>22.378946</td>\n",
       "      <td>1</td>\n",
       "    </tr>\n",
       "  </tbody>\n",
       "</table>\n",
       "<p>280 rows × 3 columns</p>\n",
       "</div>"
      ],
      "text/plain": [
       "            x1         x2  t\n",
       "0    16.453854  14.882724  1\n",
       "1    -0.044271  11.226154  0\n",
       "2    10.270329   8.557856  0\n",
       "3    15.189702  19.410997  1\n",
       "4    19.424480  10.684027  0\n",
       "..         ...        ... ..\n",
       "275  20.655680  21.723042  1\n",
       "276   9.685182  13.165120  0\n",
       "277  20.349387  16.950134  1\n",
       "278  17.778036  20.983005  1\n",
       "279  22.356330  22.378946  1\n",
       "\n",
       "[280 rows x 3 columns]"
      ]
     },
     "execution_count": 2,
     "metadata": {},
     "output_type": "execute_result"
    }
   ],
   "source": [
    "# --- トイデータの作成 ---\n",
    "np.random.seed(20201224)\n",
    "\n",
    "n0, mu0, variance0 = 200, [10, 11], 20 # n = number of data\n",
    "data0 = multivariate_normal(mu0, np.eye(2) * variance0, n0)\n",
    "df0 = pd.DataFrame(data0, columns=['x1', 'x2'])\n",
    "df0['t'] = 0\n",
    "\n",
    "n1, mu1, variance1 = 150, [18, 20], 22 # n = number of data\n",
    "data1 = multivariate_normal(mu1, np.eye(2) * variance1, n1)\n",
    "df1= pd.DataFrame(data1, columns=['x1', 'x2'])\n",
    "df1['t'] = 1\n",
    "\n",
    "df = pd.concat([df0, df1], ignore_index=True)\n",
    "df = df.reindex(permutation(df.index)).reset_index(drop=True)\n",
    "\n",
    "num_data = int (len (df) * 0.8)\n",
    "train_set = df[:num_data]\n",
    "test_set = df[num_data:]\n",
    "\n",
    "train_set # データを表示"
   ]
  },
  {
   "cell_type": "code",
   "execution_count": 3,
   "metadata": {},
   "outputs": [],
   "source": [
    "# 入力と出力に分けて，ndarrayにする\n",
    "train_x = train_set[['x1', 'x2']].values\n",
    "train_t = train_set['t'].values.reshape([len(train_set), 1])\n",
    "test_x = test_set[['x1', 'x2']].values\n",
    "test_t = test_set['t'].values.reshape([len(test_set), 1])"
   ]
  },
  {
   "cell_type": "code",
   "execution_count": 4,
   "metadata": {},
   "outputs": [],
   "source": [
    "# --- tensorflowで学習するための領域確保 ---\n",
    "x = tf.placeholder(tf.float32, [None, 2])\n",
    "w = tf.Variable(tf.zeros([2, 1]))\n",
    "w0 = tf.Variable(tf.zeros([1]))\n",
    "f = tf.matmul(x, w) + w0 # ブロードキャストルール\n",
    "p = tf.sigmoid(f) # ブロードキャストルール"
   ]
  },
  {
   "cell_type": "code",
   "execution_count": 5,
   "metadata": {},
   "outputs": [
    {
     "name": "stdout",
     "output_type": "stream",
     "text": [
      "Tensor(\"Neg:0\", shape=(), dtype=float32)\n",
      "name: \"Adam\"\n",
      "op: \"NoOp\"\n",
      "input: \"^Adam/update_Variable/ApplyAdam\"\n",
      "input: \"^Adam/update_Variable_1/ApplyAdam\"\n",
      "input: \"^Adam/Assign\"\n",
      "input: \"^Adam/Assign_1\"\n",
      "\n"
     ]
    }
   ],
   "source": [
    "# --- 損失関数を定義 ---\n",
    "t = tf.placeholder(tf.float32, [None, 1])\n",
    "loss = -tf.reduce_sum(t * tf.log(p) + (1 - t) * tf.log(1-p))\n",
    "train_step = tf.train.AdamOptimizer().minimize(loss)\n",
    "print(loss)\n",
    "print(train_step)"
   ]
  },
  {
   "cell_type": "code",
   "execution_count": 6,
   "metadata": {},
   "outputs": [],
   "source": [
    "# 正解率\n",
    "correct_prediction = tf.equal(tf.sign(p - 0.5), tf.sign(t - 0.5))\n",
    "accuracy = tf.reduce_mean(tf.cast(correct_prediction, tf.float32))"
   ]
  },
  {
   "cell_type": "code",
   "execution_count": 7,
   "metadata": {},
   "outputs": [
    {
     "name": "stdout",
     "output_type": "stream",
     "text": [
      "WARNING:tensorflow:From c:\\users\\fukumoto\\appdata\\local\\programs\\python\\python37\\lib\\site-packages\\tensorflow_core\\python\\util\\tf_should_use.py:198: initialize_all_variables (from tensorflow.python.ops.variables) is deprecated and will be removed after 2017-03-02.\n",
      "Instructions for updating:\n",
      "Use `tf.global_variables_initializer` instead.\n",
      "Step: 20, Accuracy (train): 0.442857, Accuracy (test): 0.385714\n",
      "Step: 40, Accuracy (train): 0.446429, Accuracy (test): 0.400000\n",
      "Step: 60, Accuracy (train): 0.446429, Accuracy (test): 0.400000\n",
      "Step: 80, Accuracy (train): 0.457143, Accuracy (test): 0.400000\n",
      "Step: 100, Accuracy (train): 0.464286, Accuracy (test): 0.400000\n",
      "Step: 120, Accuracy (train): 0.471429, Accuracy (test): 0.414286\n",
      "Step: 140, Accuracy (train): 0.478571, Accuracy (test): 0.414286\n",
      "Step: 160, Accuracy (train): 0.482143, Accuracy (test): 0.428571\n",
      "Step: 180, Accuracy (train): 0.489286, Accuracy (test): 0.428571\n",
      "Step: 200, Accuracy (train): 0.503571, Accuracy (test): 0.428571\n",
      "Step: 220, Accuracy (train): 0.507143, Accuracy (test): 0.471429\n",
      "Step: 240, Accuracy (train): 0.507143, Accuracy (test): 0.471429\n",
      "Step: 260, Accuracy (train): 0.521429, Accuracy (test): 0.471429\n",
      "Step: 280, Accuracy (train): 0.532143, Accuracy (test): 0.485714\n",
      "Step: 300, Accuracy (train): 0.542857, Accuracy (test): 0.485714\n",
      "Step: 320, Accuracy (train): 0.553571, Accuracy (test): 0.500000\n",
      "Step: 340, Accuracy (train): 0.560714, Accuracy (test): 0.500000\n",
      "Step: 360, Accuracy (train): 0.567857, Accuracy (test): 0.500000\n",
      "Step: 380, Accuracy (train): 0.582143, Accuracy (test): 0.514286\n",
      "Step: 400, Accuracy (train): 0.607143, Accuracy (test): 0.514286\n",
      "Step: 420, Accuracy (train): 0.621429, Accuracy (test): 0.528571\n",
      "Step: 440, Accuracy (train): 0.635714, Accuracy (test): 0.542857\n",
      "Step: 460, Accuracy (train): 0.635714, Accuracy (test): 0.542857\n",
      "Step: 480, Accuracy (train): 0.646429, Accuracy (test): 0.557143\n",
      "Step: 500, Accuracy (train): 0.675000, Accuracy (test): 0.571429\n",
      "Step: 520, Accuracy (train): 0.692857, Accuracy (test): 0.571429\n",
      "Step: 540, Accuracy (train): 0.692857, Accuracy (test): 0.571429\n",
      "Step: 560, Accuracy (train): 0.692857, Accuracy (test): 0.585714\n",
      "Step: 580, Accuracy (train): 0.707143, Accuracy (test): 0.585714\n",
      "Step: 600, Accuracy (train): 0.717857, Accuracy (test): 0.614286\n",
      "Step: 620, Accuracy (train): 0.728571, Accuracy (test): 0.642857\n",
      "Step: 640, Accuracy (train): 0.728571, Accuracy (test): 0.642857\n",
      "Step: 660, Accuracy (train): 0.735714, Accuracy (test): 0.642857\n",
      "Step: 680, Accuracy (train): 0.739286, Accuracy (test): 0.657143\n",
      "Step: 700, Accuracy (train): 0.746429, Accuracy (test): 0.700000\n",
      "Step: 720, Accuracy (train): 0.746429, Accuracy (test): 0.700000\n",
      "Step: 740, Accuracy (train): 0.753571, Accuracy (test): 0.714286\n",
      "Step: 760, Accuracy (train): 0.753571, Accuracy (test): 0.714286\n",
      "Step: 780, Accuracy (train): 0.750000, Accuracy (test): 0.714286\n",
      "Step: 800, Accuracy (train): 0.753571, Accuracy (test): 0.728571\n",
      "Step: 820, Accuracy (train): 0.753571, Accuracy (test): 0.728571\n",
      "Step: 840, Accuracy (train): 0.757143, Accuracy (test): 0.728571\n",
      "Step: 860, Accuracy (train): 0.764286, Accuracy (test): 0.728571\n",
      "Step: 880, Accuracy (train): 0.764286, Accuracy (test): 0.728571\n",
      "Step: 900, Accuracy (train): 0.767857, Accuracy (test): 0.728571\n",
      "Step: 920, Accuracy (train): 0.775000, Accuracy (test): 0.714286\n",
      "Step: 940, Accuracy (train): 0.782143, Accuracy (test): 0.714286\n",
      "Step: 960, Accuracy (train): 0.782143, Accuracy (test): 0.714286\n",
      "Step: 980, Accuracy (train): 0.782143, Accuracy (test): 0.728571\n",
      "Step: 1000, Accuracy (train): 0.789286, Accuracy (test): 0.728571\n",
      "Step: 1020, Accuracy (train): 0.792857, Accuracy (test): 0.728571\n",
      "Step: 1040, Accuracy (train): 0.792857, Accuracy (test): 0.728571\n",
      "Step: 1060, Accuracy (train): 0.800000, Accuracy (test): 0.728571\n",
      "Step: 1080, Accuracy (train): 0.803571, Accuracy (test): 0.728571\n",
      "Step: 1100, Accuracy (train): 0.803571, Accuracy (test): 0.728571\n",
      "Step: 1120, Accuracy (train): 0.803571, Accuracy (test): 0.728571\n",
      "Step: 1140, Accuracy (train): 0.803571, Accuracy (test): 0.728571\n",
      "Step: 1160, Accuracy (train): 0.803571, Accuracy (test): 0.728571\n",
      "Step: 1180, Accuracy (train): 0.803571, Accuracy (test): 0.728571\n",
      "Step: 1200, Accuracy (train): 0.800000, Accuracy (test): 0.728571\n",
      "Step: 1220, Accuracy (train): 0.810714, Accuracy (test): 0.728571\n",
      "Step: 1240, Accuracy (train): 0.814286, Accuracy (test): 0.728571\n",
      "Step: 1260, Accuracy (train): 0.814286, Accuracy (test): 0.728571\n",
      "Step: 1280, Accuracy (train): 0.814286, Accuracy (test): 0.728571\n",
      "Step: 1300, Accuracy (train): 0.817857, Accuracy (test): 0.728571\n",
      "Step: 1320, Accuracy (train): 0.817857, Accuracy (test): 0.728571\n",
      "Step: 1340, Accuracy (train): 0.817857, Accuracy (test): 0.728571\n",
      "Step: 1360, Accuracy (train): 0.817857, Accuracy (test): 0.728571\n",
      "Step: 1380, Accuracy (train): 0.817857, Accuracy (test): 0.728571\n",
      "Step: 1400, Accuracy (train): 0.817857, Accuracy (test): 0.728571\n",
      "Step: 1420, Accuracy (train): 0.817857, Accuracy (test): 0.728571\n",
      "Step: 1440, Accuracy (train): 0.817857, Accuracy (test): 0.728571\n",
      "Step: 1460, Accuracy (train): 0.821429, Accuracy (test): 0.728571\n",
      "Step: 1480, Accuracy (train): 0.821429, Accuracy (test): 0.728571\n",
      "Step: 1500, Accuracy (train): 0.825000, Accuracy (test): 0.728571\n",
      "Step: 1520, Accuracy (train): 0.832143, Accuracy (test): 0.728571\n",
      "Step: 1540, Accuracy (train): 0.839286, Accuracy (test): 0.728571\n",
      "Step: 1560, Accuracy (train): 0.842857, Accuracy (test): 0.728571\n",
      "Step: 1580, Accuracy (train): 0.842857, Accuracy (test): 0.728571\n",
      "Step: 1600, Accuracy (train): 0.842857, Accuracy (test): 0.728571\n",
      "Step: 1620, Accuracy (train): 0.842857, Accuracy (test): 0.728571\n",
      "Step: 1640, Accuracy (train): 0.842857, Accuracy (test): 0.728571\n",
      "Step: 1660, Accuracy (train): 0.846429, Accuracy (test): 0.728571\n",
      "Step: 1680, Accuracy (train): 0.846429, Accuracy (test): 0.728571\n",
      "Step: 1700, Accuracy (train): 0.846429, Accuracy (test): 0.728571\n",
      "Step: 1720, Accuracy (train): 0.842857, Accuracy (test): 0.728571\n",
      "Step: 1740, Accuracy (train): 0.842857, Accuracy (test): 0.728571\n",
      "Step: 1760, Accuracy (train): 0.842857, Accuracy (test): 0.728571\n",
      "Step: 1780, Accuracy (train): 0.842857, Accuracy (test): 0.742857\n",
      "Step: 1800, Accuracy (train): 0.846429, Accuracy (test): 0.742857\n",
      "Step: 1820, Accuracy (train): 0.846429, Accuracy (test): 0.742857\n",
      "Step: 1840, Accuracy (train): 0.846429, Accuracy (test): 0.742857\n",
      "Step: 1860, Accuracy (train): 0.846429, Accuracy (test): 0.742857\n",
      "Step: 1880, Accuracy (train): 0.846429, Accuracy (test): 0.742857\n",
      "Step: 1900, Accuracy (train): 0.846429, Accuracy (test): 0.742857\n",
      "Step: 1920, Accuracy (train): 0.850000, Accuracy (test): 0.742857\n",
      "Step: 1940, Accuracy (train): 0.850000, Accuracy (test): 0.742857\n",
      "Step: 1960, Accuracy (train): 0.850000, Accuracy (test): 0.742857\n",
      "Step: 1980, Accuracy (train): 0.850000, Accuracy (test): 0.742857\n",
      "Step: 2000, Accuracy (train): 0.850000, Accuracy (test): 0.742857\n",
      "Step: 2020, Accuracy (train): 0.850000, Accuracy (test): 0.742857\n",
      "Step: 2040, Accuracy (train): 0.846429, Accuracy (test): 0.742857\n",
      "Step: 2060, Accuracy (train): 0.846429, Accuracy (test): 0.742857\n",
      "Step: 2080, Accuracy (train): 0.846429, Accuracy (test): 0.742857\n",
      "Step: 2100, Accuracy (train): 0.850000, Accuracy (test): 0.757143\n",
      "Step: 2120, Accuracy (train): 0.850000, Accuracy (test): 0.771429\n",
      "Step: 2140, Accuracy (train): 0.857143, Accuracy (test): 0.771429\n",
      "Step: 2160, Accuracy (train): 0.857143, Accuracy (test): 0.771429\n",
      "Step: 2180, Accuracy (train): 0.857143, Accuracy (test): 0.771429\n",
      "Step: 2200, Accuracy (train): 0.857143, Accuracy (test): 0.771429\n",
      "Step: 2220, Accuracy (train): 0.857143, Accuracy (test): 0.771429\n",
      "Step: 2240, Accuracy (train): 0.860714, Accuracy (test): 0.771429\n",
      "Step: 2260, Accuracy (train): 0.860714, Accuracy (test): 0.771429\n",
      "Step: 2280, Accuracy (train): 0.860714, Accuracy (test): 0.771429\n",
      "Step: 2300, Accuracy (train): 0.860714, Accuracy (test): 0.771429\n",
      "Step: 2320, Accuracy (train): 0.864286, Accuracy (test): 0.771429\n",
      "Step: 2340, Accuracy (train): 0.864286, Accuracy (test): 0.771429\n",
      "Step: 2360, Accuracy (train): 0.867857, Accuracy (test): 0.771429\n",
      "Step: 2380, Accuracy (train): 0.867857, Accuracy (test): 0.771429\n",
      "Step: 2400, Accuracy (train): 0.867857, Accuracy (test): 0.771429\n",
      "Step: 2420, Accuracy (train): 0.867857, Accuracy (test): 0.771429\n",
      "Step: 2440, Accuracy (train): 0.867857, Accuracy (test): 0.771429\n"
     ]
    },
    {
     "name": "stdout",
     "output_type": "stream",
     "text": [
      "Step: 2460, Accuracy (train): 0.867857, Accuracy (test): 0.771429\n",
      "Step: 2480, Accuracy (train): 0.871429, Accuracy (test): 0.771429\n",
      "Step: 2500, Accuracy (train): 0.871429, Accuracy (test): 0.771429\n"
     ]
    }
   ],
   "source": [
    "# --- パラメータの最適化 ---\n",
    "sess = tf.Session()\n",
    "sess.run(tf.initialize_all_variables())\n",
    "train_accuracy = []\n",
    "test_accuracy = []\n",
    "i = 0\n",
    "for _ in range(2500):\n",
    "    i += 1\n",
    "    sess.run(train_step, feed_dict={x:train_x, t:train_t})\n",
    "    if (i % 20 == 0):\n",
    "        # loss_val, acc_val = sess.run([loss, accuracy], feed_dict={x:train_x, t:train_t})\n",
    "        acc_val1 = sess.run(accuracy, feed_dict = {x:train_x, t:train_t})\n",
    "        train_accuracy.append(acc_val1)\n",
    "        acc_val2 = sess.run(accuracy, feed_dict = {x:test_x, t:test_t})\n",
    "        test_accuracy.append(acc_val2)\n",
    "        # print('Step: %d, Loss: %f, Accuracy: %f'% (i, loss_val, acc_val))\n",
    "        print('Step: %d, Accuracy (train): %f, Accuracy (test): %f'%(i, acc_val1, acc_val2))"
   ]
  },
  {
   "cell_type": "code",
   "execution_count": 8,
   "metadata": {},
   "outputs": [
    {
     "name": "stdout",
     "output_type": "stream",
     "text": [
      "-2.2336373 0.067319624 0.09339011\n"
     ]
    }
   ],
   "source": [
    "# --- パラメータの可視化 ---\n",
    "w0_val, w_val = sess.run([w0, w])\n",
    "w0_val, w1_val, w2_val = w0_val[0], w_val[0][0], w_val[1][0]\n",
    "print(w0_val, w1_val, w2_val)"
   ]
  },
  {
   "cell_type": "code",
   "execution_count": 9,
   "metadata": {},
   "outputs": [
    {
     "data": {
      "text/plain": [
       "<matplotlib.image.AxesImage at 0x27265777ec8>"
      ]
     },
     "execution_count": 9,
     "metadata": {},
     "output_type": "execute_result"
    },
    {
     "data": {
      "image/png": "[encoded data removed]",
      "text/plain": [
       "<Figure size 432x432 with 1 Axes>"
      ]
     },
     "metadata": {
      "needs_background": "light"
     },
     "output_type": "display_data"
    }
   ],
   "source": [
    "# --- 結果の可視化 ---\n",
    "# train_set0 = train_set[train_set['t'] == 0]\n",
    "# train_set1 = train_set[train_set['t'] == 1]\n",
    "test_set0 = test_set[test_set['t'] == 0]\n",
    "test_set1 = test_set[test_set['t'] == 1]\n",
    "\n",
    "fig = plt.figure(figsize = (6, 6))\n",
    "subplot = fig.add_subplot(1, 1, 1)\n",
    "subplot.set_xlim(0, 30)\n",
    "subplot.set_ylim(0, 30)\n",
    "# subplot.scatter(train_set1.x1, train_set1.x2, marker = 'x')\n",
    "# subplot.scatter(train_set0.x1, train_set0.x2, marker = 'o')\n",
    "\n",
    "subplot.scatter(test_set1.x1, test_set1.x2, marker = 'x')\n",
    "subplot.scatter(test_set0.x1, test_set0.x2, marker = 'o')\n",
    "\n",
    "linex = np.linspace(0, 30, 10)\n",
    "liney = - (w1_val * linex / w2_val + w0_val / w2_val)\n",
    "\n",
    "subplot.plot(linex, liney)\n",
    "\n",
    "field = [[1 / (1 + np.exp(- (w0_val + w1_val * x1 + w2_val * x2))) for x1 in np.linspace(0, 30, 100) for x2 in np.linspace(0, 30, 100)]]\n",
    "subplot.imshow(field, origin='lower', extent=(0, 30, 0, 30), cmap=plt.cm.gray_r, alpha=0.5)"
   ]
  },
  {
   "cell_type": "code",
   "execution_count": 10,
   "metadata": {},
   "outputs": [
    {
     "data": {
      "text/plain": [
       "<matplotlib.legend.Legend at 0x272658bd8c8>"
      ]
     },
     "execution_count": 10,
     "metadata": {},
     "output_type": "execute_result"
    },
    {
     "data": {
      "image/png": "[encoded data removed]",
      "text/plain": [
       "<Figure size 576x432 with 1 Axes>"
      ]
     },
     "metadata": {
      "needs_background": "light"
     },
     "output_type": "display_data"
    }
   ],
   "source": [
    "fig = plt.figure(figsize=(8, 6))\n",
    "subplot = fig.add_subplot(1, 1, 1)\n",
    "subplot.plot(range(len(train_accuracy)), train_accuracy, linewidth=2, label='Training set')\n",
    "subplot.plot(range(len(test_accuracy)), test_accuracy, linewidth=2, label='Test set')\n",
    "subplot.legend(loc='upper left')"
   ]
  }
 ],
 "metadata": {
  "kernelspec": {
   "display_name": "Python 3",
   "language": "python",
   "name": "python3"
  },
  "language_info": {
   "codemirror_mode": {
    "name": "ipython",
    "version": 3
   },
   "file_extension": ".py",
   "mimetype": "text/x-python",
   "name": "python",
   "nbconvert_exporter": "python",
   "pygments_lexer": "ipython3",
   "version": "3.7.4"
  }
 },
 "nbformat": 4,
 "nbformat_minor": 4
}
